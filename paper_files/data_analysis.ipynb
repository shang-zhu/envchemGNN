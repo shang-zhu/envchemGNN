{
 "cells": [
  {
   "attachments": {},
   "cell_type": "markdown",
   "metadata": {},
   "source": [
    "Data analysis with ESOL dataset as an example\n",
    "\n",
    "author: Shang Zhu"
   ]
  },
  {
   "cell_type": "code",
   "execution_count": 1,
   "metadata": {},
   "outputs": [],
   "source": [
    "import pandas as pd\n",
    "import numpy as np\n",
    "from glob import glob\n",
    "\n",
    "def get_stat(folder_path):\n",
    "    pred_path=glob(folder_path+'*csv')\n",
    "    rmses=[]\n",
    "    try:\n",
    "        for pred in pred_path:\n",
    "            df=pd.read_csv(pred)\n",
    "            try:\n",
    "                df['y_pred']=df[['y_pred0', 'y_pred1','y_pred2',\\\n",
    "                    'y_pred3', 'y_pred4']].mean(axis=1)\n",
    "            except:\n",
    "                pass\n",
    "            rmses+=[np.sqrt(((df['y_true']-df['y_pred'])**2).mean())]\n",
    "        print(folder_path.split('/')[-2], '%0.3f'% np.array(rmses).mean(),'+/-','%0.3f'% np.array(rmses).std(), 'from ',\\\n",
    "            ['%0.2f'% rmse for rmse in rmses])\n",
    "    except:\n",
    "        pass\n",
    "\n",
    "    return np.array(rmses).mean(), np.array(rmses).std()"
   ]
  },
  {
   "attachments": {},
   "cell_type": "markdown",
   "metadata": {},
   "source": [
    "NeuralFP results for ESOL (small stochasticity is expected)"
   ]
  },
  {
   "cell_type": "code",
   "execution_count": 2,
   "metadata": {},
   "outputs": [
    {
     "name": "stdout",
     "output_type": "stream",
     "text": [
      "ESOL 0.809 +/- 0.024 from  ['0.77', '0.85', '0.80', '0.81', '0.81']\n"
     ]
    }
   ],
   "source": [
    "folders=glob('/ocean/projects/cts180021p/shang9/published_repos/test/envchemGNN/result/neuralFP/*/')\n",
    "for folder in folders:\n",
    "    get_stat(folder)"
   ]
  },
  {
   "attachments": {},
   "cell_type": "markdown",
   "metadata": {},
   "source": [
    "OGNN results for ESOL (small stochasticity is expected)"
   ]
  },
  {
   "cell_type": "code",
   "execution_count": 3,
   "metadata": {},
   "outputs": [
    {
     "name": "stdout",
     "output_type": "stream",
     "text": [
      "ESOL 0.389 +/- 0.028 from  ['0.40', '0.38', '0.42', '0.34', '0.41']\n"
     ]
    }
   ],
   "source": [
    "folders=glob('/ocean/projects/cts180021p/shang9/published_repos/test/envchemGNN/result/o-gnn/*/')\n",
    "for folder in folders:\n",
    "    get_stat(folder)"
   ]
  },
  {
   "cell_type": "code",
   "execution_count": null,
   "metadata": {},
   "outputs": [],
   "source": []
  }
 ],
 "metadata": {
  "kernelspec": {
   "display_name": "ml_echem",
   "language": "python",
   "name": "python3"
  },
  "language_info": {
   "codemirror_mode": {
    "name": "ipython",
    "version": 3
   },
   "file_extension": ".py",
   "mimetype": "text/x-python",
   "name": "python",
   "nbconvert_exporter": "python",
   "pygments_lexer": "ipython3",
   "version": "3.7.16"
  },
  "orig_nbformat": 4
 },
 "nbformat": 4,
 "nbformat_minor": 2
}
